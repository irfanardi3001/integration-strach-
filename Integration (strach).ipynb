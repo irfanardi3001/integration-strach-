{
 "cells": [
  {
   "cell_type": "code",
   "execution_count": 1,
   "id": "dd78497f",
   "metadata": {},
   "outputs": [],
   "source": [
    "import math"
   ]
  },
  {
   "cell_type": "code",
   "execution_count": 2,
   "id": "6567dc5e",
   "metadata": {},
   "outputs": [],
   "source": [
    "g = 9.8  # gravitational constant (m/s^2)\n",
    "m = 68.1  # mass of the parachutist (kg)\n",
    "c = 12.5  # drag coefficient (kg/s)\n",
    "t = 10 #time (seconds)"
   ]
  },
  {
   "cell_type": "code",
   "execution_count": 14,
   "id": "3e8fa4a5",
   "metadata": {},
   "outputs": [],
   "source": [
    "#Trapezoidal single segment\n",
    "def Trap (h,f0,f1):\n",
    "    return h * (f0 + f1)/2\n",
    "#h:height\n",
    "#f0:start interval\n",
    "#f1:end interval"
   ]
  },
  {
   "cell_type": "code",
   "execution_count": 33,
   "id": "2f41a55e",
   "metadata": {},
   "outputs": [],
   "source": [
    "#Trapezoidal multiple segment\n",
    "def trapm (h,n,f):\n",
    "    sum = f[0]\n",
    "    for i in range(1,n-1):\n",
    "        sum = sum + 2 * f[i]\n",
    "    sum = sum + f[n-1]\n",
    "    return h * sum/2\n",
    "#h:height\n",
    "#n:interval total\n",
    "#f:start point and end point each interval"
   ]
  },
  {
   "cell_type": "code",
   "execution_count": 11,
   "id": "a28b5ef2",
   "metadata": {},
   "outputs": [],
   "source": [
    "#Simpson 13 function\n",
    "def Simp13 (h,f0,f1,f2):\n",
    "    return 2 * h * (f0 + 4 * f1 + f2) / 6\n",
    "#h:height interval\n",
    "#f0:start interval\n",
    "#f1:center interval\n",
    "#f2:end interval"
   ]
  },
  {
   "cell_type": "code",
   "execution_count": 12,
   "id": "a1fac09f",
   "metadata": {},
   "outputs": [],
   "source": [
    "#Simpson 38\n",
    "def Simp38 (h,f0,f1,f2,f3):\n",
    "    return 3 * h * (f0 + 3 * (f1 + f2) + f3) / 8\n",
    "#h:height interval\n",
    "#f0:start interval\n",
    "#f1:first interval\n",
    "#f2:second interval\n",
    "#f2:end interval"
   ]
  },
  {
   "cell_type": "code",
   "execution_count": 71,
   "id": "7e9e5591",
   "metadata": {},
   "outputs": [],
   "source": [
    "#Simpson 13 M\n",
    "def Simp13m (h,n,f):\n",
    "    sum = f[0]\n",
    "    for i in range(1,n-1,2):\n",
    "        sum = sum + 4 * f[i] + 2 * f[i+1]\n",
    "    sum = sum + 4 * f[n-1] + f[n-2]\n",
    "    return h * sum / 3\n",
    "#h:height\n",
    "#n:interval total\n",
    "#f:start point and end point each interval"
   ]
  },
  {
   "cell_type": "code",
   "execution_count": 72,
   "id": "3c4549af",
   "metadata": {},
   "outputs": [],
   "source": [
    "#Simpson Int\n",
    "def SimpInt (a,b,n,f):\n",
    "    h = (b-a)/n\n",
    "    sum = 0\n",
    "    if n == 1:\n",
    "        sum = Trap(h,f[n-1],f[n])\n",
    "    else:\n",
    "        m = n\n",
    "        odd = n/2 - int(n/2)\n",
    "        if odd > 0 and n>1:\n",
    "            sum = sum + Simp38(h,f[n-3],f[n-2],f[n-1],f[n])\n",
    "            m = n -3\n",
    "        if m > 1:\n",
    "            sum = sum + Simp13m(h,m,f)\n",
    "    return sum\n",
    "#a:lower limit integration\n",
    "#b:higher limit integration\n",
    "#n:interval total\n",
    "#f:integral function"
   ]
  },
  {
   "cell_type": "code",
   "execution_count": 73,
   "id": "1c1dcf86",
   "metadata": {},
   "outputs": [],
   "source": [
    "#unequally spaced data\n",
    "def Trapun(x,y,n):\n",
    "    sum = 0\n",
    "    for i in range(1,n):\n",
    "        sum = sum + (x[i] - x[i-1]) * (y[i-1] + y[i]) / 2\n",
    "    return sum\n",
    "#x: uneven array\n",
    "#y: array in each x\n",
    "#n: total data"
   ]
  },
  {
   "cell_type": "code",
   "execution_count": 85,
   "id": "b928eb51",
   "metadata": {},
   "outputs": [],
   "source": [
    "#unequally spaced data\n",
    "def Uneven (n,x,f):\n",
    "    h = x[1] - x[0]\n",
    "    k = 1\n",
    "    sum = 0\n",
    "    for j in range (1,n):\n",
    "        hf = x[j+1]-x[j]\n",
    "        if abs(h-hf) < .000001:\n",
    "            if k == 3:\n",
    "                sum = sum + Simp13(h,f[j-3],f[j-2],f[j-1])\n",
    "                k = k - 1\n",
    "            else:\n",
    "                k = k + 1\n",
    "        else:\n",
    "            if k == 1:\n",
    "                sum = sum + Trap(h,f[j-1],f[j])\n",
    "            else:\n",
    "                if k == 2:\n",
    "                    sum = sum + Simp13(h,f[j-2],f[j-1],f[j])\n",
    "                else:\n",
    "                    sum = sum + Simp38(h,f[j-3],f[j-2],f[j-1],f[j])\n",
    "                k = 1\n",
    "        h = hf\n",
    "    return sum"
   ]
  },
  {
   "cell_type": "code",
   "execution_count": 75,
   "id": "e473d5b3",
   "metadata": {},
   "outputs": [
    {
     "name": "stdout",
     "output_type": "stream",
     "text": [
      "Trapezoidal single segment: 673.0970635702258\n"
     ]
    }
   ],
   "source": [
    "#Trapezoidal single segment\n",
    "h = 5\n",
    "f0 = 1\n",
    "f1 = 5\n",
    "\n",
    "d=(g * m / c) * Trap(h,f0,f1) * (1 - math.exp(-(c / m) * t))\n",
    "result = str(d)\n",
    "print(\"Trapezoidal single segment: \" + result)"
   ]
  },
  {
   "cell_type": "code",
   "execution_count": 76,
   "id": "afd328e6",
   "metadata": {},
   "outputs": [
    {
     "name": "stdout",
     "output_type": "stream",
     "text": [
      "Trapezoidal multiple segment: 2692.3882542809033\n"
     ]
    }
   ],
   "source": [
    "#Trapezoidal multiple segment\n",
    "h = 5\n",
    "n = 5\n",
    "f = [1,2,3,4,5]\n",
    "\n",
    "d=(g * m / c) * trapm (h,n,f) * (1 - math.exp(-(c / m) * t))\n",
    "result = str(d)\n",
    "print(\"Trapezoidal multiple segment: \" + result)"
   ]
  },
  {
   "cell_type": "code",
   "execution_count": 77,
   "id": "fed91b52",
   "metadata": {},
   "outputs": [
    {
     "name": "stdout",
     "output_type": "stream",
     "text": [
      "Simpson 13: 897.4627514269678\n",
      "Simpson 38: 1682.7426589255647\n"
     ]
    }
   ],
   "source": [
    "#Simpson 13&38 function\n",
    "h = 5\n",
    "f0 = 1\n",
    "f1 = 2\n",
    "f2 = 3\n",
    "f3 = 4\n",
    "\n",
    "d=(g * m / c) * Simp13 (h,f0,f1,f2) * (1 - math.exp(-(c / m) * t))\n",
    "result = str(d)\n",
    "print(\"Simpson 13: \" + result)\n",
    "\n",
    "d=(g * m / c) * Simp38 (h,f0,f1,f2,f3) * (1 - math.exp(-(c / m) * t))\n",
    "result = str(d)\n",
    "print(\"Simpson 38: \" + result)"
   ]
  },
  {
   "cell_type": "code",
   "execution_count": 78,
   "id": "5d36bd2d",
   "metadata": {},
   "outputs": [
    {
     "name": "stdout",
     "output_type": "stream",
     "text": [
      "Simpson 13m: 4861.256570229409\n"
     ]
    }
   ],
   "source": [
    "#simp 13m\n",
    "h = 5\n",
    "n = 5\n",
    "f = [1,2,3,4,5]\n",
    "\n",
    "d=(g * m / c) * Simp13m (h,n,f) * (1 - math.exp(-(c / m) * t))\n",
    "result = str(d)\n",
    "print(\"Simpson 13m: \" + result)"
   ]
  },
  {
   "cell_type": "code",
   "execution_count": 81,
   "id": "2ec42d51",
   "metadata": {},
   "outputs": [
    {
     "name": "stdout",
     "output_type": "stream",
     "text": [
      "Simpson Integer: 453.2186894706187\n"
     ]
    }
   ],
   "source": [
    "#Simpson Int\n",
    "a = 0\n",
    "b = 3\n",
    "n = 5\n",
    "f = [1,2,3,4,5,6]\n",
    "d=(g * m / c) * SimpInt (a,b,n,f) * (1 - math.exp(-(c / m) * t))\n",
    "result = str(d)\n",
    "print(\"Simpson Integer: \" + result)"
   ]
  },
  {
   "cell_type": "code",
   "execution_count": 83,
   "id": "008f92cc",
   "metadata": {},
   "outputs": [
    {
     "name": "stdout",
     "output_type": "stream",
     "text": [
      "Trapun: 157.05598149971937\n"
     ]
    }
   ],
   "source": [
    "#unequally spaced data\n",
    "x = [2,1,3]\n",
    "y = [1,2,3]\n",
    "n = 3\n",
    "\n",
    "d=(g * m / c) * Trapun(x,y,n) * (1 - math.exp(-(c / m) * t))\n",
    "result = str(d)\n",
    "print(\"Trapun: \" + result)"
   ]
  },
  {
   "cell_type": "code",
   "execution_count": 91,
   "id": "30b78b44",
   "metadata": {},
   "outputs": [
    {
     "name": "stdout",
     "output_type": "stream",
     "text": [
      "Uneven: 1076.9553017123615\n"
     ]
    }
   ],
   "source": [
    "x = [1,2,3,4,5,6,7,8,9]\n",
    "f = [1,2,3,4,5,6,7,8,9]\n",
    "n = 8\n",
    "\n",
    "d=(g * m / c) * Uneven (n,x,f) * (1 - math.exp(-(c / m) * t))\n",
    "result = str(d)\n",
    "print(\"Uneven: \" + result)"
   ]
  },
  {
   "cell_type": "code",
   "execution_count": null,
   "id": "7cf46b19",
   "metadata": {},
   "outputs": [],
   "source": []
  }
 ],
 "metadata": {
  "kernelspec": {
   "display_name": "Python 3 (ipykernel)",
   "language": "python",
   "name": "python3"
  },
  "language_info": {
   "codemirror_mode": {
    "name": "ipython",
    "version": 3
   },
   "file_extension": ".py",
   "mimetype": "text/x-python",
   "name": "python",
   "nbconvert_exporter": "python",
   "pygments_lexer": "ipython3",
   "version": "3.11.5"
  }
 },
 "nbformat": 4,
 "nbformat_minor": 5
}
